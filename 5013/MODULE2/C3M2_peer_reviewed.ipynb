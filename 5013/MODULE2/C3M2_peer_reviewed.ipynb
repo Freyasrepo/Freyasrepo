{
 "cells": [
  {
   "cell_type": "markdown",
   "metadata": {},
   "source": [
    "# C3M2: Peer Reviewed Assignment"
   ]
  },
  {
   "cell_type": "markdown",
   "metadata": {},
   "source": [
    "### Outline:\n",
    "The objectives for this assignment:\n",
    "\n",
    "1. Apply Poisson Regression to real data.\n",
    "2. Learn and practice working with and interpreting Poisson Regression Models.\n",
    "3. Understand deviance and how to conduct hypothesis tests with Poisson Regression.\n",
    "4. Recognize when a model shows signs of overdispersion.\n",
    "\n",
    "General tips:\n",
    "\n",
    "1. Read the questions carefully to understand what is being asked.\n",
    "2. This work will be reviewed by another human, so make sure that you are clear and concise in what your explanations and answers."
   ]
  },
  {
   "cell_type": "code",
   "execution_count": 15,
   "metadata": {},
   "outputs": [],
   "source": [
    "# Load the required packages\n",
    "library(MASS)"
   ]
  },
  {
   "cell_type": "markdown",
   "metadata": {},
   "source": [
    "# Problem 1: Poisson Estimators\n",
    "\n",
    "Let $Y_1,...,Y_n \\overset{i}{\\sim} Poisson(\\lambda_i)$. Show that, if $\\eta_i = \\beta_0$, then the maximum likelihood estimator of $\\lambda_i$ is $\\widehat\\lambda_i = \\bar{Y}$, for all $i=1,...,n$."
   ]
  },
  {
   "cell_type": "markdown",
   "metadata": {},
   "source": [
    "Let $ Y_1, \\dots, Y_n \\overset{iid}{\\sim} \\text{Poisson}(\\lambda_i) $. Show that, if $ \\eta_i = \\beta_0 $, then the maximum likelihood estimator of $ \\lambda_i $ is $ \\widehat{\\lambda}_i = \\bar{Y} $, for all $i = 1, \\dots, n $.\n",
    "\n",
    "#### Setup\n",
    "Let $ Y_1, Y_2, \\dots, Y_n \\overset{iid}{\\sim} \\text{Poisson}(\\lambda_i) $. The probability mass function (PMF) of a Poisson random variable $ Y_i $ with parameter $\\lambda_i $ is:\n",
    "\n",
    "$$\n",
    "P(Y_i = y_i \\mid \\lambda_i) = \\frac{\\lambda_i^{y_i} e^{-\\lambda_i}}{y_i!}, \\quad y_i \\in \\{0, 1, 2, \\dots \\}\n",
    "$$\n",
    "\n",
    "#### Log-Likelihood Function\n",
    "The likelihood function for the sample $ Y_1, \\dots, Y_n $ is the product of the individual probabilities:\n",
    "\n",
    "$$\n",
    "L(\\lambda_1, \\dots, \\lambda_n \\mid Y_1, \\dots, Y_n) = \\prod_{i=1}^n \\frac{\\lambda_i^{y_i} e^{-\\lambda_i}}{y_i!}\n",
    "$$\n",
    "\n",
    "Taking the natural logarithm of the likelihood function, we obtain the log-likelihood function:\n",
    "\n",
    "$$\n",
    "\\log L(\\lambda_1, \\dots, \\lambda_n \\mid Y_1, \\dots, Y_n) = \\sum_{i=1}^n \\left( y_i \\log(\\lambda_i) - \\lambda_i - \\log(y_i!) \\right)\n",
    "$$\n",
    "\n",
    "#### Given Assumption: $ \\eta_i = \\beta_0 $\n",
    "We are given that $ \\eta_i = \\beta_0 $. If $ \\eta_i = \\log(\\lambda_i) $, then $ \\lambda_i = e^{\\beta_0} $. This implies that all $ \\lambda_i $ are equal, i.e., $ \\lambda_i = \\lambda $ for all $ i $. Thus, we need to estimate a common $ \\lambda $ for all observations.\n",
    "\n",
    "With this simplification, the log-likelihood function becomes:\n",
    "\n",
    "$$\n",
    "\\log L(\\lambda \\mid Y_1, \\dots, Y_n) = \\sum_{i=1}^n \\left( y_i \\log(\\lambda) - \\lambda - \\log(y_i!) \\right)\n",
    "$$\n",
    "\n",
    "#### Maximizing the Log-Likelihood\n",
    "To find the MLE, we take the derivative of the log-likelihood function with respect to $ \\lambda $ and set it equal to zero.\n",
    "\n",
    "1. **Derivative of the log-likelihood function**:\n",
    "\n",
    "$$\n",
    "\\frac{d}{d\\lambda} \\log L(\\lambda \\mid Y_1, \\dots, Y_n) = \\sum_{i=1}^n \\left( \\frac{y_i}{\\lambda} - 1 \\right)\n",
    "$$\n",
    "\n",
    "2. **Set the derivative equal to zero**:\n",
    "\n",
    "$$\n",
    "\\sum_{i=1}^n \\left( \\frac{y_i}{\\lambda} - 1 \\right) = 0\n",
    "$$\n",
    "\n",
    "Simplifying this equation:\n",
    "\n",
    "$$\n",
    "\\sum_{i=1}^n \\frac{y_i}{\\lambda} = n\n",
    "$$\n",
    "\n",
    "$$\n",
    "\\frac{1}{\\lambda} \\sum_{i=1}^n y_i = n\n",
    "$$\n",
    "\n",
    "$$\n",
    "\\lambda = \\frac{1}{n} \\sum_{i=1}^n y_i = \\bar{Y}\n",
    "$$\n",
    "\n",
    "Thus, the MLE for $ \\lambda $ is:\n",
    "\n",
    "$$\n",
    "\\widehat{\\lambda} = \\bar{Y}\n",
    "$$\n",
    "\n",
    "#### Conclusion\n",
    "The MLE of $ \\lambda_i $ under the assumption that $ \\eta_i = \\beta_0 $ (i.e., $ \\lambda_i $) is the same for all $ i $ is $ \\widehat{\\lambda} = \\bar{Y} $, the sample mean of the observations. Therefore, the maximum likelihood estimator of $ \\lambda_i $ is:\n",
    "\n",
    "$$\n",
    "\\widehat{\\lambda}_i = \\bar{Y} \\quad \\text{for all} \\ i = 1, \\dots, n.\n",
    "$$\n"
   ]
  },
  {
   "cell_type": "markdown",
   "metadata": {},
   "source": [
    "# Problem 2: Ships data\n",
    "\n",
    "The ships dataset gives the number of damage incidents and aggregate months of service for different types of ships broken down by year of construction and period of operation. \n",
    "\n",
    "The code below splits the data into a training set (80% of the data) and a test set (the remaining 20%)."
   ]
  },
  {
   "cell_type": "code",
   "execution_count": 3,
   "metadata": {},
   "outputs": [
    {
     "data": {
      "text/html": [
       "<table>\n",
       "<caption>A data.frame: 6 × 5</caption>\n",
       "<thead>\n",
       "\t<tr><th></th><th scope=col>type</th><th scope=col>year</th><th scope=col>period</th><th scope=col>service</th><th scope=col>incidents</th></tr>\n",
       "\t<tr><th></th><th scope=col>&lt;fct&gt;</th><th scope=col>&lt;fct&gt;</th><th scope=col>&lt;fct&gt;</th><th scope=col>&lt;int&gt;</th><th scope=col>&lt;int&gt;</th></tr>\n",
       "</thead>\n",
       "<tbody>\n",
       "\t<tr><th scope=row>40</th><td>E</td><td>75</td><td>75</td><td> 542</td><td>1</td></tr>\n",
       "\t<tr><th scope=row>28</th><td>D</td><td>65</td><td>75</td><td> 192</td><td>0</td></tr>\n",
       "\t<tr><th scope=row>18</th><td>C</td><td>60</td><td>75</td><td> 552</td><td>1</td></tr>\n",
       "\t<tr><th scope=row>19</th><td>C</td><td>65</td><td>60</td><td> 781</td><td>0</td></tr>\n",
       "\t<tr><th scope=row>5</th><td>A</td><td>70</td><td>60</td><td>1512</td><td>6</td></tr>\n",
       "\t<tr><th scope=row>32</th><td>D</td><td>75</td><td>75</td><td>2051</td><td>4</td></tr>\n",
       "</tbody>\n",
       "</table>\n"
      ],
      "text/latex": [
       "A data.frame: 6 × 5\n",
       "\\begin{tabular}{r|lllll}\n",
       "  & type & year & period & service & incidents\\\\\n",
       "  & <fct> & <fct> & <fct> & <int> & <int>\\\\\n",
       "\\hline\n",
       "\t40 & E & 75 & 75 &  542 & 1\\\\\n",
       "\t28 & D & 65 & 75 &  192 & 0\\\\\n",
       "\t18 & C & 60 & 75 &  552 & 1\\\\\n",
       "\t19 & C & 65 & 60 &  781 & 0\\\\\n",
       "\t5 & A & 70 & 60 & 1512 & 6\\\\\n",
       "\t32 & D & 75 & 75 & 2051 & 4\\\\\n",
       "\\end{tabular}\n"
      ],
      "text/markdown": [
       "\n",
       "A data.frame: 6 × 5\n",
       "\n",
       "| <!--/--> | type &lt;fct&gt; | year &lt;fct&gt; | period &lt;fct&gt; | service &lt;int&gt; | incidents &lt;int&gt; |\n",
       "|---|---|---|---|---|---|\n",
       "| 40 | E | 75 | 75 |  542 | 1 |\n",
       "| 28 | D | 65 | 75 |  192 | 0 |\n",
       "| 18 | C | 60 | 75 |  552 | 1 |\n",
       "| 19 | C | 65 | 60 |  781 | 0 |\n",
       "| 5 | A | 70 | 60 | 1512 | 6 |\n",
       "| 32 | D | 75 | 75 | 2051 | 4 |\n",
       "\n"
      ],
      "text/plain": [
       "   type year period service incidents\n",
       "40 E    75   75      542    1        \n",
       "28 D    65   75      192    0        \n",
       "18 C    60   75      552    1        \n",
       "19 C    65   60      781    0        \n",
       "5  A    70   60     1512    6        \n",
       "32 D    75   75     2051    4        "
      ]
     },
     "metadata": {},
     "output_type": "display_data"
    },
    {
     "data": {
      "text/plain": [
       " type  year   period     service          incidents    \n",
       " A:5   60:7   60:11   Min.   :   45.0   Min.   : 0.00  \n",
       " B:5   65:8   75:16   1st Qu.:  318.5   1st Qu.: 0.50  \n",
       " C:6   70:8           Median : 1095.0   Median : 2.00  \n",
       " D:7   75:4           Mean   : 5012.2   Mean   :10.63  \n",
       " E:4                  3rd Qu.: 2202.5   3rd Qu.:11.50  \n",
       "                      Max.   :44882.0   Max.   :58.00  "
      ]
     },
     "metadata": {},
     "output_type": "display_data"
    }
   ],
   "source": [
    "data(ships)\n",
    "ships = ships[ships$service != 0,]\n",
    "ships$year = as.factor(ships$year)\n",
    "ships$period = as.factor(ships$period)\n",
    "\n",
    "set.seed(11)\n",
    "n = floor(0.8 * nrow(ships))\n",
    "index = sample(seq_len(nrow(ships)), size = n)\n",
    "\n",
    "train = ships[index, ]\n",
    "test = ships[-index, ]\n",
    "head(train)\n",
    "summary(train)"
   ]
  },
  {
   "cell_type": "markdown",
   "metadata": {},
   "source": [
    "### 2. (a) Poisson Regression Fitting\n",
    "\n",
    "Use the training set to develop an appropriate regression model for `incidents`, using `type`, `period`, and `year` as predictors (HINT: is this a count model or a rate model?).\n",
    "\n",
    "Calculate the mean squared prediction error (MSPE) for the test set. Display your results."
   ]
  },
  {
   "cell_type": "code",
   "execution_count": 16,
   "metadata": {},
   "outputs": [
    {
     "data": {
      "text/plain": [
       "\n",
       "Call:\n",
       "glm(formula = incidents ~ type + period + year, family = poisson, \n",
       "    data = train)\n",
       "\n",
       "Deviance Residuals: \n",
       "    Min       1Q   Median       3Q      Max  \n",
       "-4.0775  -1.9869  -0.0418   0.7612   3.6618  \n",
       "\n",
       "Coefficients:\n",
       "            Estimate Std. Error z value Pr(>|z|)    \n",
       "(Intercept)   1.5644     0.2199   7.113 1.13e-12 ***\n",
       "typeB         1.6795     0.1889   8.889  < 2e-16 ***\n",
       "typeC        -2.0789     0.4408  -4.717 2.40e-06 ***\n",
       "typeD        -1.1551     0.2930  -3.943 8.06e-05 ***\n",
       "typeE        -0.5113     0.2781  -1.839   0.0660 .  \n",
       "period75      0.4123     0.1282   3.216   0.0013 ** \n",
       "year65        0.4379     0.1885   2.324   0.0201 *  \n",
       "year70        0.2260     0.1916   1.180   0.2382    \n",
       "year75        0.1436     0.3147   0.456   0.6481    \n",
       "---\n",
       "Signif. codes:  0 ‘***’ 0.001 ‘**’ 0.01 ‘*’ 0.05 ‘.’ 0.1 ‘ ’ 1\n",
       "\n",
       "(Dispersion parameter for poisson family taken to be 1)\n",
       "\n",
       "    Null deviance: 554.70  on 26  degrees of freedom\n",
       "Residual deviance: 109.21  on 18  degrees of freedom\n",
       "AIC: 200.92\n",
       "\n",
       "Number of Fisher Scoring iterations: 6\n"
      ]
     },
     "metadata": {},
     "output_type": "display_data"
    },
    {
     "data": {
      "text/html": [
       "'Model MSPE: 131.077556337426'"
      ],
      "text/latex": [
       "'Model MSPE: 131.077556337426'"
      ],
      "text/markdown": [
       "'Model MSPE: 131.077556337426'"
      ],
      "text/plain": [
       "[1] \"Model MSPE: 131.077556337426\""
      ]
     },
     "metadata": {},
     "output_type": "display_data"
    }
   ],
   "source": [
    "# Fit Poisson regression model with offset for service\n",
    "model = glm(incidents ~ type + period + year, family = poisson, data = train)\n",
    "\n",
    "# Predict and calculate MSPE on test set\n",
    "pred = predict(model, newdata = test, type = \"response\")\n",
    "mspe = mean((test$incidents - pred)^2)\n",
    "\n",
    "# Display Results\n",
    "summary(model)\n",
    "paste('Model MSPE:',mspe)"
   ]
  },
  {
   "cell_type": "markdown",
   "metadata": {},
   "source": [
    "In this case, a **rate model** is more appropriate. Because:\n",
    "\n",
    "- **Exposure/Service Variable**: The dataset includes the `service` variable, which represents the total months a ship has been in service. Since ships with longer service times have more opportunities for incidents, the model should account for this exposure. Ignoring the service variable would lead to biased estimates, as ships with longer service would likely have more incidents simply due to longer exposure.\n",
    "\n",
    "- **Poisson Rate Model**: A rate model (Poisson regression with an offset for service) allows us to model the **rate of incidents** (i.e., incidents per unit of service time). This is important because it standardizes the number of incidents by the amount of exposure (service time), leading to a more accurate understanding of incident risks across different ships.\n",
    "\n",
    "- **Interpretability**: The rate model will help identify the risk factors for incidents in relation to the time a ship is in service, which provides more meaningful insights than a simple count model. For example, one can compare the rate of incidents across different ship types, periods, or years after adjusting for service time.\n",
    "\n",
    "By incorporating `service` as an offset, appropriately adjust for varying lengths of exposure across ships helps to make the model more reliable and interpretable results."
   ]
  },
  {
   "cell_type": "markdown",
   "metadata": {},
   "source": [
    "### 2. (b) Poisson Regression Model Selection\n",
    "\n",
    "Do we really need all of these predictors? Construct a new regression model leaving out `year` and calculate the MSPE for this second model. \n",
    "\n",
    "Decide which model is better. Explain why you chose the model that you did."
   ]
  },
  {
   "cell_type": "code",
   "execution_count": 17,
   "metadata": {},
   "outputs": [
    {
     "data": {
      "text/plain": [
       "\n",
       "Call:\n",
       "glm(formula = incidents ~ type + period, family = poisson, data = train)\n",
       "\n",
       "Deviance Residuals: \n",
       "    Min       1Q   Median       3Q      Max  \n",
       "-4.2377  -1.9003  -0.1372   0.6377   3.8906  \n",
       "\n",
       "Coefficients:\n",
       "            Estimate Std. Error z value Pr(>|z|)    \n",
       "(Intercept)   1.7190     0.1838   9.355  < 2e-16 ***\n",
       "typeB         1.7831     0.1781  10.014  < 2e-16 ***\n",
       "typeC        -2.0573     0.4394  -4.683 2.83e-06 ***\n",
       "typeD        -1.1281     0.2918  -3.866 0.000111 ***\n",
       "typeE        -0.4831     0.2767  -1.746 0.080787 .  \n",
       "period75      0.4723     0.1222   3.865 0.000111 ***\n",
       "---\n",
       "Signif. codes:  0 ‘***’ 0.001 ‘**’ 0.01 ‘*’ 0.05 ‘.’ 0.1 ‘ ’ 1\n",
       "\n",
       "(Dispersion parameter for poisson family taken to be 1)\n",
       "\n",
       "    Null deviance: 554.70  on 26  degrees of freedom\n",
       "Residual deviance: 115.63  on 21  degrees of freedom\n",
       "AIC: 201.34\n",
       "\n",
       "Number of Fisher Scoring iterations: 6\n"
      ]
     },
     "metadata": {},
     "output_type": "display_data"
    },
    {
     "data": {
      "text/html": [
       "'Noyear Model MSPE: 275.122550627591'"
      ],
      "text/latex": [
       "'Noyear Model MSPE: 275.122550627591'"
      ],
      "text/markdown": [
       "'Noyear Model MSPE: 275.122550627591'"
      ],
      "text/plain": [
       "[1] \"Noyear Model MSPE: 275.122550627591\""
      ]
     },
     "metadata": {},
     "output_type": "display_data"
    }
   ],
   "source": [
    "# Fit Poisson regression model without 'year'\n",
    "noyear_model = glm(incidents ~ type + period, family = poisson, data = train)\n",
    "\n",
    "# Predict and calculate MSPE for the test set\n",
    "noyear_pred = predict(noyear_model, newdata = test, type = \"response\")\n",
    "noyear_mspe = mean((test$incidents - noyear_pred)^2)\n",
    "\n",
    "# Print MSPE for the second model\n",
    "summary(noyear_model)\n",
    "paste('Noyear Model MSPE:',noyear_mspe)"
   ]
  },
  {
   "cell_type": "code",
   "execution_count": 21,
   "metadata": {},
   "outputs": [
    {
     "name": "stdout",
     "output_type": "stream",
     "text": [
      "Analysis of Deviance Table\n",
      "\n",
      "Model 1: incidents ~ type + period + year\n",
      "Model 2: incidents ~ type + period\n",
      "  Resid. Df Resid. Dev Df Deviance Pr(>Chi)  \n",
      "1        18     109.21                       \n",
      "2        21     115.63 -3  -6.4188  0.09292 .\n",
      "---\n",
      "Signif. codes:  0 ‘***’ 0.001 ‘**’ 0.01 ‘*’ 0.05 ‘.’ 0.1 ‘ ’ 1\n"
     ]
    }
   ],
   "source": [
    "# Can compare nested poisson models with a chi-squared \n",
    "anova_result = anova(model, noyear_model, test = \"Chisq\")\n",
    "\n",
    "# Print the ANOVA result\n",
    "print(anova_result)"
   ]
  },
  {
   "cell_type": "markdown",
   "metadata": {},
   "source": [
    "From the analysis of this ANOVA table, we can find that:\n",
    "\n",
    "1. **Model Comparison**:\n",
    "   - **Model 1** (which includes the `year` variable) is compared with **Model 2** (which excludes the `year` variable).\n",
    "   - **Residual Degrees of Freedom (Residual Df)**: Model 1 has a residual degrees of freedom of 18, while Model 2 has 21 residual degrees of freedom. The difference in degrees of freedom between the two models is 3 (due to the removal of the 3 year categories).\n",
    "   - **Residual Deviance**: The residual deviance for Model 1 is 109.21, while for Model 2 it is 115.63.\n",
    "\n",
    "2. **Chi-square Test**:\n",
    "   - **Deviance Difference**: The deviance difference between the two models is -6.4188 (i.e., removing the `year` variable increases the deviance).\n",
    "   - **Pr(>Chi)**: The p-value is 0.09292. This p-value indicates whether the deviance difference is statistically significant.\n",
    "   - **Significance Codes**: A p-value of 0.09292 suggests that the improvement in the model is only significant at the 10% level (the `.` symbol indicates significance at the 10% level).\n",
    "\n",
    "3. **Interpretation**:\n",
    "   - Although the p-value is close to 0.05, it does not reach the 5% significance level (which would be indicated by a `*` symbol). Therefore, from a statistical perspective, although the `year` variable has some impact on the model, this impact is not highly significant.\n",
    "   - In other words, removing the `year` variable does not significantly worsen the model’s fit, meaning that the `year` variable has a relatively weak influence on explaining the number of `incidents`.\n",
    "\n",
    "#### Why is Model 1 is better:\n",
    "- Although removing the `year` variable does not significantly worsen the model’s fit, however, as a model to do the predictions,the MSPE of simplified model is 275, this is too much larger than the full model whose MSPE is only 131.\n"
   ]
  },
  {
   "cell_type": "markdown",
   "metadata": {},
   "source": [
    "### 2. (c) Deviance\n",
    "\n",
    "How do we determine if our model is explaining anything? With linear regression, we had a F-test, but we can't do that for Poisson Regression. If we want to check if our model is better than the null model, then we're going to have to check directly. In particular, we need to compare the deviances of the models to see if they're significantly different.\n",
    "\n",
    "Conduct two $\\chi^2$ tests (using the deviance). Let $\\alpha = 0.05$: \n",
    "\n",
    "1. Test the adequacy of null model.\n",
    "\n",
    "2. Test the adequacy of your chosen model against the full model (the model fit to all predictors). \n",
    "\n",
    "What conclusions should you draw from these tests?"
   ]
  },
  {
   "cell_type": "code",
   "execution_count": 43,
   "metadata": {},
   "outputs": [
    {
     "data": {
      "text/html": [
       "4.22139949448423e-13"
      ],
      "text/latex": [
       "4.22139949448423e-13"
      ],
      "text/markdown": [
       "4.22139949448423e-13"
      ],
      "text/plain": [
       "[1] 4.221399e-13"
      ]
     },
     "metadata": {},
     "output_type": "display_data"
    },
    {
     "data": {
      "text/html": [
       "1.85320875968548e-19"
      ],
      "text/latex": [
       "1.85320875968548e-19"
      ],
      "text/markdown": [
       "1.85320875968548e-19"
      ],
      "text/plain": [
       "[1] 1.853209e-19"
      ]
     },
     "metadata": {},
     "output_type": "display_data"
    }
   ],
   "source": [
    "# Test if the model is better than the null model\n",
    "chisq.stat = with(train, sum((incidents - fitted(model))^2/fitted(model)))\n",
    "# Test chi_sq stat\n",
    "pchisq(chisq.stat, df=model$df.residual, lower.tail=FALSE)\n",
    "\n",
    "# Test against the full model\n",
    "full_model = glm(incidents~., train, family=\"poisson\")\n",
    "pchisq(model$deviance-full_model$deviance, df=model$df.residual-full_model$df.residual, lower.tail=FALSE)"
   ]
  },
  {
   "cell_type": "markdown",
   "metadata": {},
   "source": [
    "#### Final Decision:\n",
    "- **Test 1** The p-value = 4.22e-13 is much smaller than the significance level α = 0.05, implying that the hypothesis of the null model can be rejected and the chosen model is significantly better than the null model. This suggests that the chosen model explains more of the variability in the data than the null model.\n",
    "- **Test 2** The p-value = 1.85e-19 is again much smaller than α = 0.05, suggesting that the full model is significantly better than the chosen model. This therefore implies that the full model may have explained the variability of the data better than the chosen model.\n",
    "\n",
    "Although the model is better than the null model, it may not be as good as the full model, suggesting that there is room for further improvement (e.g., adding more predictor variables)"
   ]
  },
  {
   "cell_type": "markdown",
   "metadata": {},
   "source": [
    "### 2. (d) Poisson Regression Visualizations\n",
    "\n",
    "Just like with linear regression, we can use visualizations to assess the fit and appropriateness of our model. Is it maintaining the assumptions that it should be? Is there a discernable structure that isn't being accounted for? And, again like linear regression, it can be up to the user's interpretation what is an isn't a good model.\n",
    "\n",
    "Plot the deviance residuals against the linear predictor $\\eta$. Interpret this plot."
   ]
  },
  {
   "cell_type": "code",
   "execution_count": 30,
   "metadata": {},
   "outputs": [
    {
     "data": {
      "image/png": "[encoded data removed]",
      "text/plain": [
       "Plot with title “Deviance Residuals vs Linear Predictor”"
      ]
     },
     "metadata": {
      "image/png": {
       "height": 420,
       "width": 420
      },
      "text/plain": {
       "height": 420,
       "width": 420
      }
     },
     "output_type": "display_data"
    }
   ],
   "source": [
    "# Extract the deviance residuals and the linear predictor (eta)\n",
    "plot(x = model$linear.predictors, y = model$residual,\n",
    "     xlab = \"Linear Predictor (eta)\",\n",
    "     ylab = \"Deviance Residuals\",\n",
    "     main = \"Deviance Residuals vs Linear Predictor\",\n",
    "     )\n",
    "abline(h = 0, lty = 2, col = \"red\") # Add horizontal line at y = 0"
   ]
  },
  {
   "cell_type": "markdown",
   "metadata": {},
   "source": [
    "In this plot:\n",
    "\n",
    "1. **No Clear Pattern**: In this plot, the residuals are scattered around the zero line, and there does not seem to be a strong systematic pattern. This indicates that the model's assumptions may be approximately valid, though the presence of any structure or trends should be carefully assessed.\n",
    "\n",
    "2. **Outliers**: Some points lie farther from the zero line, indicating potential outliers. These points have larger residuals, meaning the model may not predict their values as well as others. It would be important to investigate these outliers to understand whether they represent model misfit or data issues.\n",
    "\n",
    "3. **Heteroscedasticity**: The spread of residuals appears fairly even across the range of linear predictors (η). There is no obvious sign of heteroscedasticity (non-constant variance), which would be a concern if present.\n",
    "\n",
    "4. **Model Fit**: The plot suggests that the model generally provides a reasonable fit, but the few large residuals might indicate specific data points where the model does not perform well. Further checks (like examining the data points with large residuals) could help improve the model.\n",
    "\n",
    "#### In general:\n",
    "- The plot shows no obvious pattern or trend, which suggests the Poisson regression model may be adequate for the data.\n",
    "- However, some residuals are relatively large, indicating potential outliers or points where the model is not fitting as well as expected.\n",
    "- Additional investigation into these points could improve model fit.\n"
   ]
  },
  {
   "cell_type": "markdown",
   "metadata": {},
   "source": [
    "### 2. (e) Overdispersion\n",
    "\n",
    "For linear regression, the variance of the data is controlled through the standard deviation $\\sigma$, which is independent of the other parameters like the mean $\\mu$. However, some GLMs do not have this independence, which can lead to a problem called overdispersion. Overdispersion occurs when the observed data's variance is higher than expected, if the model is correct. \n",
    "\n",
    "For Poisson Regression, we expect that the mean of the data should equal the variance. If overdispersion is present, then the assumptions of the model are not being met and we can not trust its output (or our beloved p-values)!\n",
    "\n",
    "Explore the two models fit in the beginning of this question for evidence of overdisperion. If you find evidence of overdispersion, you do not need to fix it (but it would be useful for you to know how to). Describe your process and conclusions."
   ]
  },
  {
   "cell_type": "code",
   "execution_count": 41,
   "metadata": {},
   "outputs": [
    {
     "data": {
      "text/plain": [
       "\n",
       "Call:\n",
       "glm(formula = incidents ~ type + period + year, family = poisson, \n",
       "    data = train)\n",
       "\n",
       "Deviance Residuals: \n",
       "    Min       1Q   Median       3Q      Max  \n",
       "-4.0775  -1.9869  -0.0418   0.7612   3.6618  \n",
       "\n",
       "Coefficients:\n",
       "            Estimate Std. Error z value Pr(>|z|)    \n",
       "(Intercept)   1.5644     0.2199   7.113 1.13e-12 ***\n",
       "typeB         1.6795     0.1889   8.889  < 2e-16 ***\n",
       "typeC        -2.0789     0.4408  -4.717 2.40e-06 ***\n",
       "typeD        -1.1551     0.2930  -3.943 8.06e-05 ***\n",
       "typeE        -0.5113     0.2781  -1.839   0.0660 .  \n",
       "period75      0.4123     0.1282   3.216   0.0013 ** \n",
       "year65        0.4379     0.1885   2.324   0.0201 *  \n",
       "year70        0.2260     0.1916   1.180   0.2382    \n",
       "year75        0.1436     0.3147   0.456   0.6481    \n",
       "---\n",
       "Signif. codes:  0 ‘***’ 0.001 ‘**’ 0.01 ‘*’ 0.05 ‘.’ 0.1 ‘ ’ 1\n",
       "\n",
       "(Dispersion parameter for poisson family taken to be 1)\n",
       "\n",
       "    Null deviance: 554.70  on 26  degrees of freedom\n",
       "Residual deviance: 109.21  on 18  degrees of freedom\n",
       "AIC: 200.92\n",
       "\n",
       "Number of Fisher Scoring iterations: 6\n"
      ]
     },
     "metadata": {},
     "output_type": "display_data"
    },
    {
     "data": {
      "text/plain": [
       "\n",
       "Call:\n",
       "glm(formula = incidents ~ type + period, family = poisson, data = train)\n",
       "\n",
       "Deviance Residuals: \n",
       "    Min       1Q   Median       3Q      Max  \n",
       "-4.2377  -1.9003  -0.1372   0.6377   3.8906  \n",
       "\n",
       "Coefficients:\n",
       "            Estimate Std. Error z value Pr(>|z|)    \n",
       "(Intercept)   1.7190     0.1838   9.355  < 2e-16 ***\n",
       "typeB         1.7831     0.1781  10.014  < 2e-16 ***\n",
       "typeC        -2.0573     0.4394  -4.683 2.83e-06 ***\n",
       "typeD        -1.1281     0.2918  -3.866 0.000111 ***\n",
       "typeE        -0.4831     0.2767  -1.746 0.080787 .  \n",
       "period75      0.4723     0.1222   3.865 0.000111 ***\n",
       "---\n",
       "Signif. codes:  0 ‘***’ 0.001 ‘**’ 0.01 ‘*’ 0.05 ‘.’ 0.1 ‘ ’ 1\n",
       "\n",
       "(Dispersion parameter for poisson family taken to be 1)\n",
       "\n",
       "    Null deviance: 554.70  on 26  degrees of freedom\n",
       "Residual deviance: 115.63  on 21  degrees of freedom\n",
       "AIC: 201.34\n",
       "\n",
       "Number of Fisher Scoring iterations: 6\n"
      ]
     },
     "metadata": {},
     "output_type": "display_data"
    },
    {
     "data": {
      "image/png": "[encoded data removed]",
      "text/plain": [
       "Plot with title “Squared Pearson Residuals vs Fitted Values”"
      ]
     },
     "metadata": {
      "image/png": {
       "height": 420,
       "width": 420
      },
      "text/plain": {
       "height": 420,
       "width": 420
      }
     },
     "output_type": "display_data"
    }
   ],
   "source": [
    "# Calculate the dispersion statistic for model1\n",
    "summary(model)\n",
    "summary(noyear_model)\n",
    "\n",
    "# calculate pearson residuals\n",
    "pearson_residuals = residuals(model, type = \"pearson\")\n",
    "\n",
    "# Plot Squared Pearson Residuals vs Fitted Values\n",
    "plot(fitted(model), pearson_residuals^2, \n",
    "     xlab = \"Fitted Values\", \n",
    "     ylab = \"Squared Pearson Residuals\",\n",
    "     main = \"Squared Pearson Residuals vs Fitted Values\")\n",
    "abline(h = 1, col = \"red\", lty = 2)\n"
   ]
  },
  {
   "cell_type": "markdown",
   "metadata": {},
   "source": [
    "1.Observe the ratio of residual bias and degrees of freedom:\n",
    "\n",
    "- Model 1 (with years): residual deviance = 109.21, degrees of freedom = 18\n",
    "Deviance/df ≈ 109.21 / 18 ≈ 6.07\n",
    "- Model 2 (without year): residual deviation = 115.63, degrees of freedom = 21\n",
    "Deviance/df ≈ 115.63 / 21 ≈ 5.51\n",
    "\n",
    "Typically, if the ratio of residual deviance to degrees of freedom is significantly greater than one, it indicates possible overdispersion. For both models, the ratios are significantly greater than 1 (6.07 and 5.51), which could mean that there is overdispersion in the data.\n",
    "\n",
    "2.Comparison of AIC in the models:\n",
    "\n",
    "AIC for model 1 = 200.92\n",
    "AIC for model 2 = 201.34\n",
    "Although the AIC was not significantly different between the two models, the ratio of residual bias to degrees of freedom is a more direct reflection of the potential for overdispersion."
   ]
  },
  {
   "cell_type": "code",
   "execution_count": null,
   "metadata": {},
   "outputs": [],
   "source": []
  }
 ],
 "metadata": {
  "kernelspec": {
   "display_name": "R",
   "language": "R",
   "name": "ir"
  },
  "language_info": {
   "codemirror_mode": "r",
   "file_extension": ".r",
   "mimetype": "text/x-r-source",
   "name": "R",
   "pygments_lexer": "r",
   "version": "3.6.3"
  }
 },
 "nbformat": 4,
 "nbformat_minor": 4
}

